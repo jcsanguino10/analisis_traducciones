{
 "cells": [
  {
   "attachments": {},
   "cell_type": "markdown",
   "metadata": {},
   "source": [
    "# Este notebook está en HOLD"
   ]
  },
  {
   "cell_type": "code",
   "execution_count": 5,
   "metadata": {},
   "outputs": [],
   "source": [
    "from pymongo import MongoClient\n",
    "import certifi\n",
    "import os\n",
    "from dotenv import load_dotenv\n",
    "from utils.translation import translate_text\n",
    "from utils.courses import find_courses_by_name, retrieve_lessons_text\n",
    "import pandas as pd\n",
    "import os"
   ]
  },
  {
   "cell_type": "code",
   "execution_count": 2,
   "metadata": {},
   "outputs": [],
   "source": [
    "#Load env variables\n",
    "load_dotenv()\n",
    "MONGO_URI = os.environ[\"MONGO_DB_URI\"]\n",
    "PATH = os.environ[\"DIR_PATH\"]"
   ]
  },
  {
   "cell_type": "code",
   "execution_count": 3,
   "metadata": {},
   "outputs": [],
   "source": [
    "#Load the gcf data from the MongoDB db\n",
    "ca = certifi.where()\n",
    "cluster = MongoClient(host=MONGO_URI, tlsCAFile=ca)\n",
    "db = cluster[\"gcfglobal\"]\n",
    "collection_lessons = db[\"lesson\"]\n",
    "collection_tutorials = db['tutorial']"
   ]
  },
  {
   "cell_type": "code",
   "execution_count": null,
   "metadata": {},
   "outputs": [],
   "source": [
    "lessons_english = [\n",
    "    'excel2016'\n",
    "]"
   ]
  },
  {
   "attachments": {},
   "cell_type": "markdown",
   "metadata": {},
   "source": [
    "# Retrieve the lessons"
   ]
  },
  {
   "cell_type": "code",
   "execution_count": null,
   "metadata": {},
   "outputs": [],
   "source": [
    "#Courses that are common in pt and es in their url path\n",
    "\"\"\"\n",
    "The following array contains the paths of the courses in the following order\n",
    "(<pt_path>, <es_path>, <en_path>).\n",
    "In case that the the path for the pt and esp language is shared the tuple\n",
    "will only have 2 entries.\n",
    "(<pt/es_path>, <en_path>)\n",
    "\"\"\"\n",
    "paths = [\n",
    "    ('excel-2016', 'excel2016')\n",
    "    , ('microsoft-excel-2010')\n",
    "    , ('microsoft-word-2010')\n",
    "    , ('powerpoint-2019')\n",
    "    , ('word-2016')\n",
    "    , ('algebra')\n",
    "    , ('credito')\n",
    "    , ('curso-de-fotografia-digital')\n",
    "    , ('curso-de-photoshop')\n",
    "    , ('informatica-basica')\n",
    "    , ('whatsapp-business')\n",
    "    , ('como-usar-android')\n",
    "    #No encontré match en ingles\n",
    "#    , ('virus-e-antivirus','virus-informaticos-y-antivirus')\n",
    "    #No encontré match en ingles\n",
    "#    , ('criacao-de-sites','creacion-de-sitios-web')\n",
    "    #No encontré match en ingles - Hay un curso del mismo tema pero la secuencia\n",
    "    # está lejos de ser parecida\n",
    "#    , ('seguranca-na-internet', 'seguridad-en-internet', 'internetsafety')\n",
    "    #No funcionó (le cambiaron la estructura de almacenamiento al objeto de la BD)\n",
    "#    , ('como-usar-a-internet', 'como-usar-internet')\n",
    "    # No encontré match en ingles - Hay cursos sobre el tema pero\n",
    "    # no una secuencia parecida\n",
    "#    , ('criar-um-correio-eletronico', 'crear-un-correo-electronico')\n",
    "    , ('como-criar-um-blog', 'crear-un-blog-en-internet')\n",
    "#Este no funcionó\n",
    "#    , ('informatica-avancada', 'informatica-avanzada')\n",
    "    , ('apresentacoes-basicas', 'presentaciones-basicas')\n",
    "#Esto lo deje por fuera, son suficientemente diferentes\n",
    "#    , ('conhecendo-zoom', 'como-usar-zoom')\n",
    "    , ('como-usar-o-telegram', 'curso-de-telegram')\n",
    "    , ('tudo-sobre-o-windows-10', 'como-usar-windows-10')\n",
    "    , ('como-usar-o-sistema-android', 'como-usar-android')\n",
    "#la correspondencia en esta no es tan cercana 1:1 pero es suficiente\n",
    "    , ('criar-uma-conta-no-facebook', 'crear-cuenta-en-facebook')\n",
    "#la correspondencia en esta no es tan cercana 1:1 pero es suficiente\n",
    "    , ('aplicativos', 'aplicaciones')\n",
    "#la correspondencia en esta no es tan cercana 1:1 pero es suficiente\n",
    "#No sirvio\n",
    "    , ('google-sala-de-aula-para-alunos', 'google-classroom-para-estudiantes')\n",
    "    , ('somar-e-subtrair', 'sumar-y-restar')\n",
    "    , ('como-fazer-multiplicacao', 'multiplicar')\n",
    "    , ('divisao', 'dividir')\n",
    "    , ('multiplos-e-divisores', 'divisores-y-multiplos')\n",
    "    , ('numeros-fracionarios', 'fraccionarios')\n",
    "    , ('os-numeros-decimais', 'los-decimales')\n",
    "    , ('os-conjuntos-matematicos', 'los-conjuntos')\n",
    "    , ('usando-a-matematica', 'aplicaciones-de-la-matematica')\n",
    "    , ('conceitos-basicos-da-matematica', 'temas-basicos')\n",
    "    , ('empreendedorismo', 'emprendimiento')\n",
    "    , ('criatividade','creatividad')\n",
    "    , ('os-caminhos-da-graduacao', 'acceso-a-la-educacion-superior')\n",
    "    , ('credito')\n",
    "    , ('conceitos-basicos-de-design-grafico', 'conceptos-basicos-de-diseno-grafico')\n",
    "]"
   ]
  },
  {
   "cell_type": "code",
   "execution_count": 10,
   "metadata": {},
   "outputs": [
    {
     "name": "stdout",
     "output_type": "stream",
     "text": [
      "Found 1 tutorials for course excel2016 \n",
      "\n",
      "Found 2 tutorials for course excel-2016 \n",
      "\n"
     ]
    }
   ],
   "source": [
    "lessons = retrieve_lessons_text(collection_lessons, find_courses_by_name(collection_tutorials, (\"excel2016\", \"excel-2016\")))"
   ]
  }
 ],
 "metadata": {
  "kernelspec": {
   "display_name": "venv",
   "language": "python",
   "name": "python3"
  },
  "language_info": {
   "codemirror_mode": {
    "name": "ipython",
    "version": 3
   },
   "file_extension": ".py",
   "mimetype": "text/x-python",
   "name": "python",
   "nbconvert_exporter": "python",
   "pygments_lexer": "ipython3",
   "version": "3.10.9 (main, Dec 15 2022, 17:11:09) [Clang 14.0.0 (clang-1400.0.29.202)]"
  },
  "orig_nbformat": 4,
  "vscode": {
   "interpreter": {
    "hash": "8a62819772e14da5eab5cf66599675389c183acc0455077faddd67122d6223ab"
   }
  }
 },
 "nbformat": 4,
 "nbformat_minor": 2
}
