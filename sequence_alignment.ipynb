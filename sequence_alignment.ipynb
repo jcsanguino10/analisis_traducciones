{
 "cells": [
  {
   "cell_type": "code",
   "execution_count": 1,
   "metadata": {},
   "outputs": [
    {
     "name": "stderr",
     "output_type": "stream",
     "text": [
      "/Users/elefantickets/git/analisis_traducciones/venv/lib/python3.10/site-packages/tqdm/auto.py:22: TqdmWarning: IProgress not found. Please update jupyter and ipywidgets. See https://ipywidgets.readthedocs.io/en/stable/user_install.html\n",
      "  from .autonotebook import tqdm as notebook_tqdm\n"
     ]
    }
   ],
   "source": [
    "from pymongo import MongoClient\n",
    "import certifi\n",
    "import os\n",
    "from dotenv import load_dotenv\n",
    "from utils.courses import find_courses_by_name, retrieve_lessons_text, get_google_translations_from_txt, encode_course_by_lesson, cosine_similarity"
   ]
  },
  {
   "cell_type": "code",
   "execution_count": 2,
   "metadata": {},
   "outputs": [],
   "source": [
    "#Load env variables\n",
    "load_dotenv()\n",
    "MONGO_URI = os.environ[\"MONGO_DB_URI\"]\n",
    "PATH = os.environ[\"DIR_PATH\"]"
   ]
  },
  {
   "cell_type": "code",
   "execution_count": 3,
   "metadata": {},
   "outputs": [],
   "source": [
    "#Load the gcf data from the MongoDB db\n",
    "ca = certifi.where()\n",
    "cluster = MongoClient(host=MONGO_URI, tlsCAFile=ca)\n",
    "db = cluster[\"gcfglobal\"]\n",
    "collection_lessons = db[\"lesson\"]\n",
    "collection_tutorials = db['tutorial']"
   ]
  },
  {
   "attachments": {},
   "cell_type": "markdown",
   "metadata": {},
   "source": [
    "# Get the Courses Content"
   ]
  },
  {
   "cell_type": "code",
   "execution_count": 4,
   "metadata": {},
   "outputs": [
    {
     "name": "stdout",
     "output_type": "stream",
     "text": [
      "Found 2 tutorials for course excel-2016 \n",
      "\n"
     ]
    }
   ],
   "source": [
    "lessons = retrieve_lessons_text(collection_lessons, find_courses_by_name(collection_tutorials, \"excel-2016\"))"
   ]
  },
  {
   "cell_type": "code",
   "execution_count": 5,
   "metadata": {},
   "outputs": [],
   "source": [
    "lessons_google = get_google_translations_from_txt(PATH + \"/analisis_traducciones/data/translate/\",\"excel-2016\", lessons)"
   ]
  },
  {
   "cell_type": "code",
   "execution_count": 6,
   "metadata": {},
   "outputs": [],
   "source": [
    "encodings = encode_course_by_lesson(lessons, \"excel-2016\", \"multi-qa-distilbert-cos-v1\",lessons_google)"
   ]
  },
  {
   "cell_type": "code",
   "execution_count": 7,
   "metadata": {},
   "outputs": [],
   "source": [
    "def index_of_most_similar(base_seq, seq, i):\n",
    "    '''\n",
    "    Given the element of seq at index i,\n",
    "    returns the index of the most similar element in the base_seq \n",
    "    (by cosine distance) \n",
    "    '''\n",
    "    el = seq[i]\n",
    "    similarities = (list(map(lambda x: cosine_similarity(el,x), base_seq)))\n",
    "    return similarities.index(max(similarities))\n",
    "\n",
    "def compute_swapping_order(base, to_order, acc = []):\n",
    "    '''\n",
    "    Returns a list of tuples such that if the elements in\n",
    "    to_order are swapped from the current position (1st element in tuple)\n",
    "    to the target position (2nd element in tuple). Then the cosine similarity\n",
    "    of the 1:1 correspondance will be maximum.\n",
    "\n",
    "    Note that base and to_order don't need to be the same length.\n",
    "    '''\n",
    "    if (len(to_order) == (len(acc))):\n",
    "        return list(zip(range(len(to_order)), acc))\n",
    "    else:\n",
    "        return compute_swapping_order(base, to_order,[*acc, index_of_most_similar(base, to_order, len(acc))])"
   ]
  },
  {
   "cell_type": "code",
   "execution_count": 8,
   "metadata": {},
   "outputs": [
    {
     "name": "stdout",
     "output_type": "stream",
     "text": [
      "[(0, 20), (1, 1), (2, 2), (3, 3), (4, 4), (5, 5), (6, 6), (7, 7), (8, 8), (9, 9), (10, 10), (11, 11), (12, 12), (13, 13), (14, 14), (15, 15), (16, 16), (17, 17), (18, 20), (19, 19), (20, 20), (21, 21), (22, 22), (23, 29), (24, 24), (25, 25), (26, 26), (27, 27), (28, 28), (29, 29), (30, 30), (31, 31), (32, 4)]\n"
     ]
    }
   ],
   "source": [
    "print(compute_swapping_order(encodings['excel-2016']['pt'], encodings['excel-2016']['es']))"
   ]
  }
 ],
 "metadata": {
  "kernelspec": {
   "display_name": "venv",
   "language": "python",
   "name": "python3"
  },
  "language_info": {
   "codemirror_mode": {
    "name": "ipython",
    "version": 3
   },
   "file_extension": ".py",
   "mimetype": "text/x-python",
   "name": "python",
   "nbconvert_exporter": "python",
   "pygments_lexer": "ipython3",
   "version": "3.10.9 (main, Dec 15 2022, 17:11:09) [Clang 14.0.0 (clang-1400.0.29.202)]"
  },
  "orig_nbformat": 4,
  "vscode": {
   "interpreter": {
    "hash": "8a62819772e14da5eab5cf66599675389c183acc0455077faddd67122d6223ab"
   }
  }
 },
 "nbformat": 4,
 "nbformat_minor": 2
}
